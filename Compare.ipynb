{
 "cells": [
  {
   "cell_type": "code",
   "execution_count": 1,
   "metadata": {},
   "outputs": [],
   "source": [
    "from sklearn.model_selection import train_test_split\n",
    "from sklearn.datasets import load_iris\n",
    "from sklearn.metrics import confusion_matrix, accuracy_score\n",
    "\n",
    "from sklearn import svm\n",
    "from sklearn.linear_model import LogisticRegression, SGDClassifier"
   ]
  },
  {
   "cell_type": "code",
   "execution_count": 2,
   "metadata": {},
   "outputs": [],
   "source": [
    "data = load_iris()\n",
    "x_data = data.data\n",
    "y_data = data.target\n",
    "x_train,x_test,y_train,y_test = train_test_split(x_data, y_data, test_size = 0.20, random_state = 99)"
   ]
  },
  {
   "cell_type": "markdown",
   "metadata": {},
   "source": [
    "# SVC"
   ]
  },
  {
   "cell_type": "code",
   "execution_count": 3,
   "metadata": {},
   "outputs": [
    {
     "name": "stdout",
     "output_type": "stream",
     "text": [
      "\n",
      "Confusion Matrix :\n",
      " [[ 8  0  0]\n",
      " [ 0 12  0]\n",
      " [ 0  1  9]]\n",
      "Accuracy score:  0.9666666666666667\n"
     ]
    }
   ],
   "source": [
    "clf =  svm.SVC()\n",
    "clf.fit(x_train, y_train)\n",
    "\n",
    "# predicting the test set results \n",
    "y_pred = clf.predict(x_test)\n",
    "print('\\nConfusion Matrix :\\n', confusion_matrix(y_test, y_pred))\n",
    "print('Accuracy score: ', format(accuracy_score(y_test, y_pred)))"
   ]
  },
  {
   "cell_type": "markdown",
   "metadata": {},
   "source": [
    "# Logistic Regression"
   ]
  },
  {
   "cell_type": "code",
   "execution_count": 4,
   "metadata": {},
   "outputs": [
    {
     "name": "stdout",
     "output_type": "stream",
     "text": [
      "\n",
      "Confusion Matrix :\n",
      " [[ 8  0  0]\n",
      " [ 0 12  0]\n",
      " [ 0  1  9]]\n",
      "Accuracy score:  0.9666666666666667\n"
     ]
    }
   ],
   "source": [
    "lr =  LogisticRegression()\n",
    "lr.fit(x_train, y_train)\n",
    "\n",
    "# predicting the test set results \n",
    "y_pred = clf.predict(x_test)\n",
    "print('\\nConfusion Matrix :\\n', confusion_matrix(y_test, y_pred))\n",
    "print('Accuracy score: ', format(accuracy_score(y_test, y_pred)))"
   ]
  },
  {
   "cell_type": "markdown",
   "metadata": {},
   "source": [
    "# stochastic gradient descent"
   ]
  },
  {
   "cell_type": "code",
   "execution_count": 5,
   "metadata": {},
   "outputs": [
    {
     "name": "stdout",
     "output_type": "stream",
     "text": [
      "\n",
      "Confusion Matrix :\n",
      " [[ 8  0  0]\n",
      " [ 0 10  2]\n",
      " [ 0  0 10]]\n",
      "Accuracy score:  0.9333333333333333\n"
     ]
    }
   ],
   "source": [
    "sgd = SGDClassifier(loss=\"hinge\", penalty=\"l2\", max_iter=1500) \n",
    "sgd.fit(x_train, y_train)\n",
    "\n",
    "# predicting the test set results \n",
    "y_pred = sgd.predict(x_test)\n",
    "print('\\nConfusion Matrix :\\n', confusion_matrix(y_test, y_pred))\n",
    "print('Accuracy score: ', format(accuracy_score(y_test, y_pred)))"
   ]
  }
 ],
 "metadata": {
  "kernelspec": {
   "display_name": "Python 3",
   "language": "python",
   "name": "python3"
  },
  "language_info": {
   "codemirror_mode": {
    "name": "ipython",
    "version": 3
   },
   "file_extension": ".py",
   "mimetype": "text/x-python",
   "name": "python",
   "nbconvert_exporter": "python",
   "pygments_lexer": "ipython3",
   "version": "3.7.5"
  }
 },
 "nbformat": 4,
 "nbformat_minor": 4
}
